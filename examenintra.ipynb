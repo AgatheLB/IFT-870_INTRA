{
 "cells": [
  {
   "cell_type": "code",
   "execution_count": 1,
   "metadata": {},
   "outputs": [],
   "source": [
    "\n",
    "# leba3207\n",
    "\n",
    "import numpy as np\n",
    "import pandas as pd"
   ]
  },
  {
   "cell_type": "code",
   "execution_count": 2,
   "metadata": {},
   "outputs": [],
   "source": [
    "\n",
    "data_folder = 'data/'\n",
    "\n",
    "journal_file = 'api_journal11-13-17.csv'\n",
    "price_file = 'api_price11-13-17.csv'\n",
    "influence_file = 'estimated-article-influence-scores-2015.csv'\n",
    "\n",
    "journal = pd.read_csv(data_folder + journal_file, sep=',', encoding='latin1')\n",
    "price = pd.read_csv(data_folder + price_file, sep=',')\n",
    "influence = pd.read_csv(data_folder + influence_file, sep=',')\n"
   ]
  },
  {
   "cell_type": "code",
   "execution_count": 3,
   "metadata": {},
   "outputs": [],
   "source": [
    "\n",
    "def get_uniqueness_attributes(table):\n",
    "    return table.nunique(axis=0)\n",
    "\n",
    "\n",
    "def get_ratio_missing_values(table):\n",
    "    return table.isnull().sum() * 100 / len(table)\n",
    "\n",
    "\n",
    "def lowercase_columns(table, headers):\n",
    "    for header in headers:\n",
    "        table[header] = table[header].str.lower()"
   ]
  },
  {
   "cell_type": "code",
   "execution_count": 4,
   "metadata": {},
   "outputs": [
    {
     "data": {
      "text/plain": [
       "'\\n# Question 1: Exploration-Description\\n## PrÃ©senter une description de chacun des attributs des 3 tables, avec des graphiques pour la visualisation des \\nstatistiques descriptives au besoin.\\n\\n### Table journal\\n'"
      ]
     },
     "execution_count": 4,
     "metadata": {},
     "output_type": "execute_result"
    }
   ],
   "source": [
    "\n",
    "\"\"\"\n",
    "# Question 1: Exploration-Description\n",
    "## PrÃ©senter une description de chacun des attributs des 3 tables, avec des graphiques pour la visualisation des \n",
    "statistiques descriptives au besoin.\n",
    "\n",
    "### Table journal\n",
    "\"\"\""
   ]
  },
  {
   "cell_type": "code",
   "execution_count": 5,
   "metadata": {},
   "outputs": [
    {
     "name": "stdout",
     "output_type": "stream",
     "text": [
      "        issn                                       journal_name  \\\n",
      "0  0001-527X                           Acta Biochimica Polonica   \n",
      "1  0002-0397                                    Africa Spectrum   \n",
      "2  0003-0090  Bulletin of the American Museum of Natural His...   \n",
      "3  0003-5521                                    L'anthropologie   \n",
      "4  0004-1254  Arhiv Za Higijenu Rada I Toksikologiju-Archive...   \n",
      "\n",
      "                      pub_name  is_hybrid                    category  url  \n",
      "0     ACTA BIOCHIMICA POLONICA          0  MOLECULAR AND CELL BIOLOGY  NaN  \n",
      "1                          NaN          0                         NaN  NaN  \n",
      "2  AMER MUSEUM NATURAL HISTORY          0       ECOLOGY AND EVOLUTION  NaN  \n",
      "3                     Elsevier          1                Anthropology  NaN  \n",
      "4                          NaN          0                         NaN  NaN  \n"
     ]
    }
   ],
   "source": [
    "\n",
    "print(journal.head())"
   ]
  },
  {
   "cell_type": "code",
   "execution_count": 6,
   "metadata": {},
   "outputs": [
    {
     "data": {
      "text/plain": [
       "\"\\nissn: identifiant du journal\\n\\njournal_name: nom textuel du journal\\n\\npub_name: nom de l'Ã©diteur du journal\\n\\nis_hybrid: valeur boolÃ©enne indiquant si le journal possÃ¨de son propre Ã©diteur Ã\\xa0 son nom (??)\\n\\ncategory: renseigne sur les catÃ©gories de sujet abordÃ©s par le journal \\nIl peut exister de multiples valeurs pour chaque objet, leur sÃ©paration ne semble d'ailleurs pas consistante.\\n\\nurl: indique l'adresse url du site du journal\\n\\n\\nLes attributs journal_name, pub_name et category Ã©tant des donnÃ©es textuelles trÃ¨s inconsistantes, je dÃ©cide avant tout\\ntraitement et Ã©tude supplÃ©mentaire de transformer les valeurs en minuscule pour limiter au maximum l'inconsistence.\\n\""
      ]
     },
     "execution_count": 6,
     "metadata": {},
     "output_type": "execute_result"
    }
   ],
   "source": [
    "\n",
    "\"\"\"\n",
    "issn: identifiant du journal\n",
    "\n",
    "journal_name: nom textuel du journal\n",
    "\n",
    "pub_name: nom de l'Ã©diteur du journal\n",
    "\n",
    "is_hybrid: valeur boolÃ©enne indiquant si le journal possÃ¨de son propre Ã©diteur Ã  son nom (??)\n",
    "\n",
    "category: renseigne sur les catÃ©gories de sujet abordÃ©s par le journal \n",
    "Il peut exister de multiples valeurs pour chaque objet, leur sÃ©paration ne semble d'ailleurs pas consistante.\n",
    "\n",
    "url: indique l'adresse url du site du journal\n",
    "\n",
    "\n",
    "Les attributs journal_name, pub_name et category Ã©tant des donnÃ©es textuelles trÃ¨s inconsistantes, je dÃ©cide avant tout\n",
    "traitement et Ã©tude supplÃ©mentaire de transformer les valeurs en minuscule pour limiter au maximum l'inconsistence.\n",
    "\"\"\""
   ]
  },
  {
   "cell_type": "code",
   "execution_count": 7,
   "metadata": {},
   "outputs": [],
   "source": [
    "\n",
    "lowercase_columns(journal, ['journal_name', 'pub_name', 'category'])"
   ]
  },
  {
   "cell_type": "code",
   "execution_count": 8,
   "metadata": {},
   "outputs": [
    {
     "name": "stdout",
     "output_type": "stream",
     "text": [
      "Valeurs uniques des attributs de journal:\n",
      "issn            13149\n",
      "journal_name    11572\n",
      "pub_name         3490\n",
      "is_hybrid           2\n",
      "category          112\n",
      "url              6327\n",
      "dtype: int64\n",
      "Ratio de valeurs vides pour les attributs de journal:\n",
      "issn             0.000000\n",
      "journal_name     0.000000\n",
      "pub_name        11.179557\n",
      "is_hybrid        0.000000\n",
      "category        48.148148\n",
      "url             51.623698\n",
      "dtype: float64\n"
     ]
    }
   ],
   "source": [
    "\n",
    "print(f'Valeurs uniques des attributs de journal:\\n{get_uniqueness_attributes(journal)}')\n",
    "print(f'Ratio de valeurs vides pour les attributs de journal:\\n{get_ratio_missing_values(journal)}')"
   ]
  },
  {
   "cell_type": "code",
   "execution_count": 9,
   "metadata": {},
   "outputs": [
    {
     "data": {
      "text/plain": [
       "\"\\nOn remarque qu'il existe uniquement deux valeurs pour l'attribut is_hybrid (soit 1 soit 0).\\nLes attributs category, url prÃ©sentent un nombre consÃ©quent de valeurs manquantes.\\n\""
      ]
     },
     "execution_count": 9,
     "metadata": {},
     "output_type": "execute_result"
    }
   ],
   "source": [
    "\n",
    "\"\"\"\n",
    "On remarque qu'il existe uniquement deux valeurs pour l'attribut is_hybrid (soit 1 soit 0).\n",
    "Les attributs category, url prÃ©sentent un nombre consÃ©quent de valeurs manquantes.\n",
    "\"\"\""
   ]
  },
  {
   "cell_type": "code",
   "execution_count": null,
   "metadata": {},
   "outputs": [],
   "source": []
  },
  {
   "cell_type": "code",
   "execution_count": 10,
   "metadata": {},
   "outputs": [
    {
     "data": {
      "text/plain": [
       "'\\n# Question 2: PrÃ©traitement-ReprÃ©sentation\\n## A. Effectuer un prÃ©traitement des donnÃ©es pour supprimer les duplications et corriger les incohÃ©rences sâ€™il y en a.\\n'"
      ]
     },
     "execution_count": 10,
     "metadata": {},
     "output_type": "execute_result"
    }
   ],
   "source": [
    "\n",
    "\"\"\"\n",
    "# Question 2: PrÃ©traitement-ReprÃ©sentation\n",
    "## A. Effectuer un prÃ©traitement des donnÃ©es pour supprimer les duplications et corriger les incohÃ©rences sâ€™il y en a.\n",
    "\"\"\"\n",
    "\n",
    "# TODO: separator in journal/category : and . |\n"
   ]
  },
  {
   "cell_type": "code",
   "execution_count": null,
   "metadata": {},
   "outputs": [],
   "source": []
  }
 ],
 "metadata": {
  "anaconda-cloud": {},
  "kernelspec": {
   "display_name": "Python 3",
   "language": "python",
   "name": "python3"
  },
  "language_info": {
   "codemirror_mode": {
    "name": "ipython",
    "version": 3
   },
   "file_extension": ".py",
   "mimetype": "text/x-python",
   "name": "python",
   "nbconvert_exporter": "python",
   "pygments_lexer": "ipython3",
   "version": "3.7.1"
  }
 },
 "nbformat": 4,
 "nbformat_minor": 1
}
