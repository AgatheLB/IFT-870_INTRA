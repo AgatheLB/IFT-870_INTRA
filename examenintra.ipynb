{
 "cells": [
  {
   "cell_type": "code",
   "execution_count": 1,
   "metadata": {},
   "outputs": [],
   "source": [
    "\n",
    "# leba3207\n",
    "from unicodedata import category\n",
    "from tqdm import tqdm\n",
    "import heapq\n",
    "\n",
    "import numpy as np\n",
    "import pandas as pd\n",
    "import matplotlib.pyplot as plt\n",
    "\n",
    "from sklearn.model_selection import train_test_split\n",
    "from sklearn.neighbors import KNeighborsClassifier\n",
    "from sklearn.multioutput import MultiOutputClassifier\n",
    "from sklearn.ensemble import RandomForestClassifier\n",
    "\n",
    "from sklearn.ensemble import RandomForestRegressor\n",
    "\n",
    "import difflib\n",
    "from functools import partial"
   ]
  },
  {
   "cell_type": "markdown",
   "metadata": {},
   "source": [
    "Chargement des donnÃ©es des diffÃ©rents fichiers"
   ]
  },
  {
   "cell_type": "code",
   "execution_count": 2,
   "metadata": {},
   "outputs": [],
   "source": [
    "\n",
    "data_folder = 'data/'\n",
    "\n",
    "journal_file = 'api_journal11-13-17.csv'\n",
    "price_file = 'api_price11-13-17.csv'\n",
    "influence_file = 'estimated-article-influence-scores-2015.csv'\n",
    "\n",
    "journal = pd.read_csv(data_folder + journal_file, sep=',', encoding='latin1')\n",
    "price = pd.read_csv(data_folder + price_file, sep=',', index_col=0)\n",
    "influence = pd.read_csv(data_folder + influence_file, sep=',', index_col=0)\n"
   ]
  },
  {
   "cell_type": "code",
   "execution_count": 3,
   "metadata": {},
   "outputs": [],
   "source": [
    "\n",
    "def get_uniqueness_attributes(table):\n",
    "    return table.nunique(axis=0)\n",
    "\n",
    "\n",
    "def get_ratio_missing_values(table):\n",
    "    return table.isnull().sum() * 100 / len(table)\n",
    "\n",
    "\n",
    "def get_unique_values_of_attribute(table, header):\n",
    "    return table[header].unique()\n",
    "\n",
    "\n",
    "def lowercase_columns(table, headers):\n",
    "    for header in headers:\n",
    "        table[header] = table[header].str.lower()\n",
    "\n",
    "\n",
    "# TODO: include headers specification\n",
    "def get_df_duplicated_rows_dropped(table):\n",
    "    return table.drop_duplicates()\n",
    "\n",
    "\n",
    "def plot_categories_frequency(table, header):\n",
    "    fig, ax = plt.subplots()\n",
    "    table[header].value_counts()[0:5].plot(ax=ax, kind='bar')\n",
    "    plt.title(f'FrÃ©quence d\\'apparition des catÃ©gories de l\\'attribut {header}')\n",
    "    plt.show()\n",
    "\n",
    "\n",
    "def get_mean_price_per_year():\n",
    "    mean_price_per_year = {}\n",
    "    for index, p in price.iterrows():\n",
    "        year = p['date_stamp'].year\n",
    "        if year in mean_price_per_year:\n",
    "            mean_price_per_year[year] += p['price']\n",
    "        else:\n",
    "            mean_price_per_year[year] = p['price']\n",
    "\n",
    "    for year, value in mean_price_per_year.items():\n",
    "        mean_price_per_year[year] /= len(price[price['price'] != 0])\n",
    "    return {k: v for k, v in sorted(mean_price_per_year.items(), key=lambda item: item[1], reverse=True)}\n",
    "\n",
    "\n",
    "def rename_df_headers(table, dict_headers):\n",
    "    return table.rename(columns=dict_headers)\n",
    "\n",
    "\n",
    "def get_score_sequence_matching(s, c1, category):\n",
    "    if s[c1] is np.nan:\n",
    "        return 0\n",
    "    return difflib.SequenceMatcher(None, s[c1], category).ratio()\n",
    "\n",
    "\n",
    "def get_empty_attribute_to_remove(table):\n",
    "    headers = []\n",
    "    for header in table.columns:\n",
    "        if table[header].isna().sum() * 100 / len(table) > 50:\n",
    "            headers.append(header)\n",
    "    return headers\n"
   ]
  },
  {
   "cell_type": "markdown",
   "metadata": {},
   "source": [
    "# Question 1: Exploration-Description\n",
    "## PrÃ©senter une description de chacun des attributs des 3 tables, avec des graphiques pour la visualisation des \n",
    "statistiques descriptives au besoin.\n",
    "\n",
    "### Table journal"
   ]
  },
  {
   "cell_type": "code",
   "execution_count": 4,
   "metadata": {},
   "outputs": [],
   "source": [
    "# TODO: visualisations\n",
    "# frÃ©quence des valeurs"
   ]
  },
  {
   "cell_type": "code",
   "execution_count": 5,
   "metadata": {},
   "outputs": [
    {
     "name": "stdout",
     "output_type": "stream",
     "text": [
      "        issn                                       journal_name  \\\n",
      "0  0001-527X                           Acta Biochimica Polonica   \n",
      "1  0002-0397                                    Africa Spectrum   \n",
      "2  0003-0090  Bulletin of the American Museum of Natural His...   \n",
      "3  0003-5521                                    L'anthropologie   \n",
      "4  0004-1254  Arhiv Za Higijenu Rada I Toksikologiju-Archive...   \n",
      "\n",
      "                      pub_name  is_hybrid                    category  url  \n",
      "0     ACTA BIOCHIMICA POLONICA          0  MOLECULAR AND CELL BIOLOGY  NaN  \n",
      "1                          NaN          0                         NaN  NaN  \n",
      "2  AMER MUSEUM NATURAL HISTORY          0       ECOLOGY AND EVOLUTION  NaN  \n",
      "3                     Elsevier          1                Anthropology  NaN  \n",
      "4                          NaN          0                         NaN  NaN  \n"
     ]
    }
   ],
   "source": [
    "\n",
    "print(journal.head())"
   ]
  },
  {
   "cell_type": "code",
   "execution_count": 6,
   "metadata": {},
   "outputs": [
    {
     "data": {
      "text/plain": [
       "\"\\nissn: identifiant du journal\\nLes valeurs de cet attribut semblent suivre un format particulier tel que: 4 digits - 4 digits\\n\\njournal_name: nom textuel du journal\\nLes valeurs sont textuelles, ne suivant pas de valeurs catÃ©gorielles particuliÃ¨re Ã\\xa0 priori.\\n\\npub_name: nom de l'Ã©diteur du journal\\nLes valeurs sont textuelles, ne suivant pas de valeurs catÃ©gorielles particuliÃ¨re Ã\\xa0 priori.\\n\\nis_hybrid: indique si le journal est hybride, ce qui signifie que c'est une revue sur abonnement dont certains articles\\nsont en libre accÃ¨s, comme l'indique le site http://flourishoa.org/about.\\n\\ncategory: renseigne sur la/les catÃ©gorie(s) des sujets abordÃ©s par le journal \\nLes valeurs sont textuelles et sont catÃ©gorielles. Chaque objet peut possÃ©der des valeurs multiples pour cet attribut. La sÃ©paration entre les diffÃ©rentes valeurs semblent\\nÃªtre inconsistante.\\n\\nurl: indique l'adresse url du site du journal\\n\\n\\nLes attributs journal_name, pub_name et category Ã©tant des donnÃ©es textuelles trÃ¨s inconsistantes, je dÃ©cide avant tout\\ntraitement et Ã©tude supplÃ©mentaire de transformer les valeurs en minuscule pour limiter au maximum l'inconsistence.\\n\""
      ]
     },
     "execution_count": 6,
     "metadata": {},
     "output_type": "execute_result"
    }
   ],
   "source": [
    "\n",
    "\"\"\"\n",
    "issn: identifiant du journal\n",
    "Les valeurs de cet attribut semblent suivre un format particulier tel que: 4 digits - 4 digits\n",
    "\n",
    "journal_name: nom textuel du journal\n",
    "Les valeurs sont textuelles, ne suivant pas de valeurs catÃ©gorielles particuliÃ¨re Ã  priori.\n",
    "\n",
    "pub_name: nom de l'Ã©diteur du journal\n",
    "Les valeurs sont textuelles, ne suivant pas de valeurs catÃ©gorielles particuliÃ¨re Ã  priori.\n",
    "\n",
    "is_hybrid: indique si le journal est hybride, ce qui signifie que c'est une revue sur abonnement dont certains articles\n",
    "sont en libre accÃ¨s, comme l'indique le site http://flourishoa.org/about.\n",
    "\n",
    "category: renseigne sur la/les catÃ©gorie(s) des sujets abordÃ©s par le journal \n",
    "Les valeurs sont textuelles et sont catÃ©gorielles. Chaque objet peut possÃ©der des valeurs multiples pour cet attribut. La sÃ©paration entre les diffÃ©rentes valeurs semblent\n",
    "Ãªtre inconsistante.\n",
    "\n",
    "url: indique l'adresse url du site du journal\n",
    "\n",
    "\n",
    "Les attributs journal_name, pub_name et category Ã©tant des donnÃ©es textuelles trÃ¨s inconsistantes, je dÃ©cide avant tout\n",
    "traitement et Ã©tude supplÃ©mentaire de transformer les valeurs en minuscule pour limiter au maximum l'inconsistence.\n",
    "\"\"\""
   ]
  },
  {
   "cell_type": "code",
   "execution_count": 7,
   "metadata": {},
   "outputs": [],
   "source": [
    "\n",
    "lowercase_columns(journal, ['journal_name', 'pub_name', 'category'])"
   ]
  },
  {
   "cell_type": "code",
   "execution_count": 8,
   "metadata": {},
   "outputs": [
    {
     "name": "stdout",
     "output_type": "stream",
     "text": [
      "Valeurs uniques des attributs de journal:\n",
      "issn            13149\n",
      "journal_name    11572\n",
      "pub_name         3490\n",
      "is_hybrid           2\n",
      "category          112\n",
      "url              6327\n",
      "dtype: int64\n",
      "Ratio de valeurs vides pour les attributs de journal:\n",
      "issn             0.000000\n",
      "journal_name     0.000000\n",
      "pub_name        11.179557\n",
      "is_hybrid        0.000000\n",
      "category        48.148148\n",
      "url             51.623698\n",
      "dtype: float64\n",
      "Valeurs possibles pour l'attribut is_hybrid de journal:\n",
      "[0 1]\n",
      "Valeurs possibles pour l'attribut category de journal:\n",
      "['molecular and cell biology' nan 'ecology and evolution' 'anthropology'\n",
      " 'robotics' 'physics and chemistry' 'psychology' 'medicine' 'neuroscience'\n",
      " 'veterinary' 'economics' 'law' 'gastroenterology' 'plant biology'\n",
      " 'orthopedics' 'agriculture' 'linguistics'\n",
      " 'history and philosophy of science' 'mathematics' 'oncology'\n",
      " 'sports medicine' 'food science' 'psychiatry' 'science' 'radiology'\n",
      " 'urology' 'environmental health' 'social sciences' 'ophthalmology'\n",
      " 'marketing' 'astronomy and astrophysics' 'operations research'\n",
      " 'infectious diseases' 'literary studies' 'plastic surgery' 'energy'\n",
      " 'structural engineering' 'philosophy. psychology. religion' 'fine arts'\n",
      " 'music and books on music' 'history america'\n",
      " 'geography. anthropology. recreation' 'political science'\n",
      " 'language and literature' 'technology' 'education' 'general works'\n",
      " 'history (general) and history of europe' 'technology | law'\n",
      " 'history america | social sciences' 'auxiliary sciences of history'\n",
      " 'political science | social sciences' 'computer science'\n",
      " 'information & library sciences' 'library and information science'\n",
      " 'education | technology' 'medicine | science' 'circuits'\n",
      " 'information science' 'geotechnology' 'sociology' 'nephrology'\n",
      " 'dentistry' 'rheumatology' 'pharmacology' 'agriculture | science'\n",
      " 'medicine | social sciences'\n",
      " 'fine arts | geography. anthropology. recreation' 'informatics'\n",
      " 'communication & media studies' 'education | science' 'military science'\n",
      " 'technology | social sciences' 'law | social sciences' 'naval science'\n",
      " 'technology | science' 'agriculture | technology'\n",
      " 'law | political science' 'languages & linguistics'\n",
      " 'geography. anthropology. recreation | science'\n",
      " 'philosophy. psychology. religion | social sciences' 'wood products'\n",
      " 'fine arts | language and literature'\n",
      " 'technology | language and literature' 'fine arts | science' 'literature'\n",
      " 'policy and law' 'education | political science | social sciences'\n",
      " 'agriculture | medicine' 'business & management'\n",
      " 'medicine | philosophy. psychology. religion'\n",
      " 'education | social sciences' 'education | language and literature'\n",
      " 'law | medicine' 'general science & technology' 'nursing'\n",
      " 'language and literature | social sciences'\n",
      " 'agriculture | geography. anthropology. recreation'\n",
      " 'scholarly publishing' 'agriculture | technology | science'\n",
      " 'technology | medicine' 'technology | medicine | science'\n",
      " 'philosophy. psychology. religion | science'\n",
      " 'education | philosophy. psychology. religion'\n",
      " 'technology | philosophy. psychology. religion' 'education | medicine'\n",
      " 'scientific equipment' 'dynamics'\n",
      " 'education | geography. anthropology. recreation' 'arts & humanities'\n",
      " 'architecture' 'military science | political science'\n",
      " 'arts and humanities']\n"
     ]
    }
   ],
   "source": [
    "\n",
    "print(f\"Valeurs uniques des attributs de journal:\\n\"\n",
    "      f\"{get_uniqueness_attributes(journal)}\")\n",
    "print(f\"Ratio de valeurs vides pour les attributs de journal:\\n\"\n",
    "      f\"{get_ratio_missing_values(journal)}\")\n",
    "\n",
    "print(f\"Valeurs possibles pour l'attribut is_hybrid de journal:\\n\"\n",
    "      f\"{get_unique_values_of_attribute(journal, 'is_hybrid')}\")\n",
    "print(f\"Valeurs possibles pour l'attribut category de journal:\\n\"\n",
    "      f\"{get_unique_values_of_attribute(journal, 'category')}\")"
   ]
  },
  {
   "cell_type": "markdown",
   "metadata": {},
   "source": [
    "Les attributs category et url prÃ©sentent un nombre consÃ©quent de valeurs manquantes.\n",
    "L'attribut issn prÃ©sente des valeurs uniques pour chacun de ses objets.\n",
    "\n",
    "On remarque qu'il existe uniquement deux valeurs pour l'attribut is_hybrid (soit 1 soit 0). "
   ]
  },
  {
   "cell_type": "code",
   "execution_count": 9,
   "metadata": {},
   "outputs": [
    {
     "name": "stdout",
     "output_type": "stream",
     "text": [
      "Valeurs possibles de pub_name quand is_hybrid vaut 1:\n",
      "['elsevier' 'springer' 'sage publishing' 'wolters kluwer health']\n"
     ]
    }
   ],
   "source": [
    "\n",
    "print(f\"Valeurs possibles de pub_name quand is_hybrid vaut 1:\\n\"\n",
    "      f\"{journal[journal['is_hybrid'] == 1]['pub_name'].unique()}\")"
   ]
  },
  {
   "cell_type": "code",
   "execution_count": 10,
   "metadata": {},
   "outputs": [
    {
     "data": {
      "image/png": "[encoded data removed]",
      "text/plain": [
       "<Figure size 432x288 with 1 Axes>"
      ]
     },
     "metadata": {
      "needs_background": "light"
     },
     "output_type": "display_data"
    },
    {
     "data": {
      "image/png": "[encoded data removed]",
      "text/plain": [
       "<Figure size 432x288 with 1 Axes>"
      ]
     },
     "metadata": {
      "needs_background": "light"
     },
     "output_type": "display_data"
    }
   ],
   "source": [
    "\n",
    "plot_categories_frequency(journal, 'pub_name')\n",
    "plot_categories_frequency(journal, 'category')"
   ]
  },
  {
   "cell_type": "markdown",
   "metadata": {},
   "source": [
    "### Table price"
   ]
  },
  {
   "cell_type": "code",
   "execution_count": 11,
   "metadata": {},
   "outputs": [
    {
     "name": "stdout",
     "output_type": "stream",
     "text": [
      "       price  date_stamp journal_id  influence_id  url  license\n",
      "id                                                             \n",
      "8691  1400.0  2016-08-11  2051-5960           NaN  NaN      NaN\n",
      "8692  2175.0  2016-08-11  1758-9193           NaN  NaN      NaN\n",
      "8693  2145.0  2016-08-11  1476-0711           NaN  NaN      NaN\n",
      "8694  2145.0  2016-08-11  2047-2994           NaN  NaN      NaN\n",
      "8695  2145.0  2016-08-11  1744-9081           NaN  NaN      NaN\n"
     ]
    }
   ],
   "source": [
    "\n",
    "print(price.head())"
   ]
  },
  {
   "cell_type": "markdown",
   "metadata": {},
   "source": [
    "price: information du prix d'une publication pour le journal associÃ© Ã  une date prÃ©cise, en dollar US\n",
    "Si celui-ci est Ã  0, on peut coompendre que celui-ci est gratuit\n",
    "\n",
    "date_stamp: horodatage de l'information de prix d'une publication, en format annÃ©es-mois-jour\n",
    "\n",
    "journal_id: identifiant du journal\n",
    "Les valeurs semblent suivre consistantement un format du type: 4 digits - 4 digits\n",
    "\n",
    "influence_id: identifiant de l'influence\n",
    "Les valeurs suivent un format 4 digits.\n",
    "\n",
    "url: indique l'adresse url du site de l'auteur\n",
    "\n",
    "license: indique le type de license utilisÃ© par le journal pour les diffÃ©rents articles utilisÃ©s.\n",
    "\n",
    "\n",
    "On convertit l'attribut date_stamp en type date."
   ]
  },
  {
   "cell_type": "code",
   "execution_count": 12,
   "metadata": {},
   "outputs": [],
   "source": [
    "\n",
    "price['date_stamp'] = pd.to_datetime(price['date_stamp'], errors='coerce', format='%Y-%m-%d')"
   ]
  },
  {
   "cell_type": "code",
   "execution_count": 13,
   "metadata": {},
   "outputs": [
    {
     "name": "stdout",
     "output_type": "stream",
     "text": [
      "Valeurs uniques des attributs de price:\n",
      "price            527\n",
      "date_stamp      1472\n",
      "journal_id      5720\n",
      "influence_id     759\n",
      "url              302\n",
      "license            8\n",
      "dtype: int64\n",
      "Ratio de valeurs vides pour les attributs de price:\n",
      "price            0.000000\n",
      "date_stamp       0.000000\n",
      "journal_id       0.000000\n",
      "influence_id    90.262989\n",
      "url             95.330340\n",
      "license         95.150738\n",
      "dtype: float64\n",
      "Exemples de valeurs possibles pour l'attribut influence_id de price:\n",
      "[4519. 4517. 4516. 4515. 4514. 4513. 4512.]\n",
      "Valeurs possibles pour l'attribut license de price:\n",
      "[nan  1. 10.  4.  5.  6.  2.  3.  9.]\n"
     ]
    }
   ],
   "source": [
    "\n",
    "print(f\"Valeurs uniques des attributs de price:\\n\"\n",
    "      f\"{get_uniqueness_attributes(price)}\")\n",
    "print(f\"Ratio de valeurs vides pour les attributs de price:\\n\"\n",
    "      f\"{get_ratio_missing_values(price)}\")\n",
    "\n",
    "print(f\"Exemples de valeurs possibles pour l'attribut influence_id de price:\\n\"\n",
    "      f\"{get_unique_values_of_attribute(price, 'influence_id')[1:8]}\")\n",
    "print(f\"Valeurs possibles pour l'attribut license de price:\\n\"\n",
    "      f\"{get_unique_values_of_attribute(price, 'license')}\")"
   ]
  },
  {
   "cell_type": "markdown",
   "metadata": {},
   "source": [
    "Les attributs influence_id, url et license prÃ©sentent une majoritÃ© de valeurs manquantes."
   ]
  },
  {
   "cell_type": "code",
   "execution_count": 14,
   "metadata": {},
   "outputs": [
    {
     "data": {
      "image/png": "[encoded data removed]",
      "text/plain": [
       "<Figure size 432x288 with 1 Axes>"
      ]
     },
     "metadata": {
      "needs_background": "light"
     },
     "output_type": "display_data"
    }
   ],
   "source": [
    "\n",
    "mean_price_per_year = get_mean_price_per_year()\n",
    "\n",
    "plt.bar(range(len(mean_price_per_year)), mean_price_per_year.values())\n",
    "plt.xticks(range(len(mean_price_per_year)), mean_price_per_year.keys())\n",
    "plt.title(\"Moyenne par annÃ©e des prix des publications\")\n",
    "plt.show()"
   ]
  },
  {
   "cell_type": "markdown",
   "metadata": {},
   "source": [
    "### Table influence"
   ]
  },
  {
   "cell_type": "code",
   "execution_count": 15,
   "metadata": {},
   "outputs": [
    {
     "name": "stdout",
     "output_type": "stream",
     "text": [
      "                    journal_name       issn  citation_count_sum  \\\n",
      "0                    3d research  2092-6731               151.0   \n",
      "1              aaps pharmscitech  1530-9932              2208.0   \n",
      "2  abstract and applied analysis  1687-0409              3005.0   \n",
      "3            academic psychiatry  1545-7230               537.0   \n",
      "4             academic questions  1936-4709                40.0   \n",
      "\n",
      "   paper_count_sum  avg_cites_per_paper  proj_ai  proj_ai_year  \n",
      "0            106.0             1.424528    0.290          2015  \n",
      "1            801.0             2.756554    0.665          2015  \n",
      "2           2923.0             1.028053    0.192          2015  \n",
      "3            490.0             1.095918    0.208          2015  \n",
      "4             67.0             0.597015    0.097          2015  \n"
     ]
    }
   ],
   "source": [
    "\n",
    "print(influence.head())\n",
    "\n",
    "# TODO: proj_ai moyenne"
   ]
  },
  {
   "cell_type": "markdown",
   "metadata": {},
   "source": [
    "journal_name: nom textuel du journal\n",
    "Les valeurs sont textuelles, ne suivant pas de valeurs catÃ©gorielles particuliÃ¨re Ã  priori.\n",
    "\n",
    "issn: identifiant du journal\n",
    "Les valeurs de cet attribut semblent suivre un format particulier tel que: 4 digits - 4 digits\n",
    "\n",
    "citation_count_sum: indique le nombre de citations du jounal\n",
    "\n",
    "paper_count_sum: indique le nombre de citations des articles du jounal\n",
    "\n",
    "avg_cites_per_paper: indique la moyenne des citations par papier qui sont contenus du journal\n",
    "\n",
    "proj_ai: information sur le score d'influence des articles du journal\n",
    "\n",
    "proj_ai_year: spÃ©cification de l'annÃ©e oÃ¹ l'information sur le score d'influence des articles du journal a Ã©tÃ© Ã©tablie"
   ]
  },
  {
   "cell_type": "code",
   "execution_count": 16,
   "metadata": {},
   "outputs": [
    {
     "name": "stdout",
     "output_type": "stream",
     "text": [
      "Valeurs uniques des attributs de influence:\n",
      "journal_name           3169\n",
      "issn                   3615\n",
      "citation_count_sum     1542\n",
      "paper_count_sum        1099\n",
      "avg_cites_per_paper    2932\n",
      "proj_ai                1151\n",
      "proj_ai_year              1\n",
      "dtype: int64\n",
      "Ratio de valeurs vides pour les attributs de influence:\n",
      "journal_name           0.00000\n",
      "issn                   0.00000\n",
      "citation_count_sum     0.33195\n",
      "paper_count_sum        0.33195\n",
      "avg_cites_per_paper    0.33195\n",
      "proj_ai                0.33195\n",
      "proj_ai_year           0.00000\n",
      "dtype: float64\n",
      "Valeurs possibles pour l'attribut proj_ai_year de influence:\n",
      "[2015]\n"
     ]
    }
   ],
   "source": [
    "\n",
    "print(f\"Valeurs uniques des attributs de influence:\\n\"\n",
    "      f\"{get_uniqueness_attributes(influence)}\")\n",
    "print(f\"Ratio de valeurs vides pour les attributs de influence:\\n\"\n",
    "      f\"{get_ratio_missing_values(influence)}\")\n",
    "\n",
    "print(f\"Valeurs possibles pour l'attribut proj_ai_year de influence:\\n\"\n",
    "      f\"{get_unique_values_of_attribute(influence, 'proj_ai_year')}\")"
   ]
  },
  {
   "cell_type": "markdown",
   "metadata": {},
   "source": [
    "L'attribut proj_ai_year ne prÃ©sentant qu'une seule valeur nous indique que les valeurs de l'attribut proj_ai ont toutes\n",
    "Ã©tÃ© Ã©tablies Ã  la mÃªme pÃ©riode. \n",
    "\"\"\"\n",
    "\n",
    "# TODO: proj_ai sum in function of journal"
   ]
  },
  {
   "cell_type": "markdown",
   "metadata": {},
   "source": [
    "# Question 2: PrÃ©traitement-ReprÃ©sentation\n",
    "## A. Effectuer un prÃ©traitement des donnÃ©es pour supprimer les duplications et corriger les incohÃ©rences sâ€™il y en a."
   ]
  },
  {
   "cell_type": "markdown",
   "metadata": {},
   "source": [
    "### Table journal\n",
    "Dans un premier temps, on Ã©limine les objets prÃ©sentant des objets dupliquÃ©s sur tous les attributs.\n",
    "On se base sur l'attribut issn qui devrait Ãªtre unique pour chaque objet de la table, on vÃ©rifie son unicitÃ©."
   ]
  },
  {
   "cell_type": "code",
   "execution_count": 17,
   "metadata": {},
   "outputs": [
    {
     "name": "stdout",
     "output_type": "stream",
     "text": [
      "Nombre d'objets dupliquÃ©s Ã©liminÃ©s dans journal: 0\n",
      "UnicitÃ© de l'attribut issn dans la table journal: True\n"
     ]
    }
   ],
   "source": [
    "\n",
    "nb = len(journal)\n",
    "journal = get_df_duplicated_rows_dropped(journal)\n",
    "print(f\"Nombre d'objets dupliquÃ©s Ã©liminÃ©s dans journal: {nb - len(journal)}\")\n",
    "\n",
    "check = np.logical_not(journal['issn'].duplicated().any())\n",
    "print(f\"UnicitÃ© de l'attribut issn dans la table journal: {check}\")"
   ]
  },
  {
   "cell_type": "markdown",
   "metadata": {},
   "source": [
    "### Table price\n",
    "Etant donnÃ© que les index Ã©taient fournis dans le fichier original et qu'on les utilise afin d'indexer nos objets, \n",
    "on vÃ©rifie qu'il n'existe pas de duplicata.\n",
    "\n",
    "Ensuite, on Ã©limine les objets prÃ©sentant des objets dupliquÃ©s sur tous les attributs.\n",
    "Dans un second temps, dans la table price, les objets se doivent d'Ãªtre uniques selon deux attributs, date_stamp et\n",
    "journal_id. S'ils ne le sont pas, alors ceux sont des objets dupliquÃ©s."
   ]
  },
  {
   "cell_type": "code",
   "execution_count": 18,
   "metadata": {},
   "outputs": [
    {
     "name": "stdout",
     "output_type": "stream",
     "text": [
      "UnicitÃ© des indexes de la table price: True\n",
      "Nombre d'objets dupliquÃ©s Ã©liminÃ©s dans price: 3\n"
     ]
    }
   ],
   "source": [
    "\n",
    "check = np.logical_not(price.index.duplicated().any())\n",
    "print(f\"UnicitÃ© des indexes de la table price: {check}\")\n",
    "\n",
    "nb = len(price)\n",
    "price = get_df_duplicated_rows_dropped(price)\n",
    "print(f\"Nombre d'objets dupliquÃ©s Ã©liminÃ©s dans price: {nb - len(price)}\")\n",
    "\n",
    "duplicated_rows = price[price[['date_stamp', 'journal_id']].duplicated(keep=False)]"
   ]
  },
  {
   "cell_type": "markdown",
   "metadata": {},
   "source": [
    "Il existe des duplicata ambigus que l'on dÃ©cide de traiter un Ã  un.\n",
    "\n",
    "Premier cas: un des objets prÃ©sente un prix nul, on dÃ©cide de choisir de l'Ã©liminer au profit de l'autre."
   ]
  },
  {
   "cell_type": "code",
   "execution_count": 19,
   "metadata": {},
   "outputs": [
    {
     "name": "stdout",
     "output_type": "stream",
     "text": [
      "price           False\n",
      "date_stamp       True\n",
      "journal_id       True\n",
      "influence_id     True\n",
      "url              True\n",
      "license          True\n",
      "dtype: bool\n"
     ]
    }
   ],
   "source": [
    "\n",
    "print(duplicated_rows.iloc[0].fillna(0) == duplicated_rows.iloc[1].fillna(0))\n",
    "price = price.drop(duplicated_rows.index.values[0])"
   ]
  },
  {
   "cell_type": "markdown",
   "metadata": {},
   "source": [
    "DeuxiÃ¨me cas: leur valeur du prix est diffÃ©rente d'un lÃ©ger Ã©cart, on dÃ©cide de garder la deuxiÃ¨me de maniÃ¨re\n",
    "arbitraire"
   ]
  },
  {
   "cell_type": "code",
   "execution_count": 20,
   "metadata": {},
   "outputs": [
    {
     "name": "stdout",
     "output_type": "stream",
     "text": [
      "price           False\n",
      "date_stamp       True\n",
      "journal_id       True\n",
      "influence_id     True\n",
      "url              True\n",
      "license          True\n",
      "dtype: bool\n"
     ]
    }
   ],
   "source": [
    "\n",
    "print(duplicated_rows.iloc[40].fillna(0) == duplicated_rows.iloc[41].fillna(0))\n",
    "price = price.drop(duplicated_rows.index.values[40])"
   ]
  },
  {
   "cell_type": "markdown",
   "metadata": {},
   "source": [
    "TroisiÃ¨me cas: seule la valeur de license est diffÃ©rente, on dÃ©cide de garder la premiÃ¨re de maniÃ¨re arbitraire."
   ]
  },
  {
   "cell_type": "code",
   "execution_count": 21,
   "metadata": {},
   "outputs": [],
   "source": [
    "\n",
    "for i in range(3, 39, 2):\n",
    "    price = price.drop(duplicated_rows.index.values[i])"
   ]
  },
  {
   "cell_type": "markdown",
   "metadata": {},
   "source": [
    "### Table influence\n",
    "Etant donnÃ© que les index Ã©taient fournis dans le fichier original et qu'on les utilise afin d'indexer nos objets, \n",
    "on vÃ©rifie qu'il n'existe pas de duplicata.\n",
    "\n",
    "On se base sur l'attribut issn qui devrait Ãªtre unique pour chaque objet de la table, on vÃ©rifie son unicitÃ©."
   ]
  },
  {
   "cell_type": "code",
   "execution_count": 22,
   "metadata": {},
   "outputs": [
    {
     "name": "stdout",
     "output_type": "stream",
     "text": [
      "Nombre d'objets dupliquÃ©s Ã©liminÃ©s dans influence: 0\n",
      "UnicitÃ© de l'attribut issn dans la table influence: True\n"
     ]
    }
   ],
   "source": [
    "\n",
    "nb = len(influence)\n",
    "influence = get_df_duplicated_rows_dropped(influence)\n",
    "print(f\"Nombre d'objets dupliquÃ©s Ã©liminÃ©s dans influence: {nb - len(influence)}\")\n",
    "\n",
    "check = np.logical_not(influence['issn'].duplicated().any())\n",
    "print(f\"UnicitÃ© de l'attribut issn dans la table influence: {check}\")"
   ]
  },
  {
   "cell_type": "markdown",
   "metadata": {},
   "source": [
    "## Merge\n",
    "Afin de simplifier les opÃ©rations, on gÃ©nÃ¨re une seule table reprenant les informations des trois tables.\n",
    "On vÃ©rifie d'abord si les identifiants communs aux diffÃ©rentes tables sont prÃ©sentes dans les tables Ã  merger.\n",
    "En premier, on vÃ©rifie si les valeurs de l'attribut issn de influence sont existantes dans l'attribut du mÃªme nom \n",
    "dans journal.\n",
    "De mÃªme, on vÃ©rifie les valeurs de l'attribut journal_id de price sont existantes dans l'attribut issn dans journal. "
   ]
  },
  {
   "cell_type": "code",
   "execution_count": 23,
   "metadata": {},
   "outputs": [
    {
     "name": "stdout",
     "output_type": "stream",
     "text": [
      "Pas de valeur d'issn manquante dans journal par rapport Ã  influence : True\n",
      "Pas de valeur d'issn manquante dans journal par rapport Ã  price : True\n"
     ]
    }
   ],
   "source": [
    "\n",
    "check = influence['issn'].isin(journal['issn']).any()\n",
    "print(f\"Pas de valeur d'issn manquante dans journal par rapport Ã  influence : {check}\")\n",
    "\n",
    "check = price['journal_id'].isin(journal['issn']).any()\n",
    "print(f\"Pas de valeur d'issn manquante dans journal par rapport Ã  price : {check}\")"
   ]
  },
  {
   "cell_type": "markdown",
   "metadata": {},
   "source": [
    "On applique maintenant le merge des trois tables en deux Ã©tapes. D'abord, on merge influence dans journal, puis price\n",
    "est ensuite mergÃ© dans le rÃ©sultat du premier merge."
   ]
  },
  {
   "cell_type": "code",
   "execution_count": 24,
   "metadata": {},
   "outputs": [
    {
     "name": "stdout",
     "output_type": "stream",
     "text": [
      "Nombre d'aberrances entre les valeurs journal_name des tables journal et influence: 9534\n",
      "Valeurs uniques des attributs de temp:\n",
      "issn                   13149\n",
      "journal_name           11572\n",
      "pub_name                3490\n",
      "is_hybrid                  2\n",
      "category                 112\n",
      "url_journal             6327\n",
      "citation_count_sum      1542\n",
      "paper_count_sum         1099\n",
      "avg_cites_per_paper     2932\n",
      "proj_ai                 1151\n",
      "proj_ai_year               1\n",
      "dtype: int64\n",
      "Valeurs uniques des attributs de data:\n",
      "issn                   13149\n",
      "journal_name           11572\n",
      "pub_name                3490\n",
      "is_hybrid                  2\n",
      "category                 112\n",
      "url_journal             6327\n",
      "citation_count_sum      1542\n",
      "paper_count_sum         1099\n",
      "avg_cites_per_paper     2932\n",
      "proj_ai                 1151\n",
      "proj_ai_year               1\n",
      "price                    527\n",
      "date_stamp              1472\n",
      "influence_id             759\n",
      "url_autor                302\n",
      "license                    8\n",
      "dtype: int64\n",
      "Ratio de valeurs vides pour les attributs de data:\n",
      "issn                    0.000000\n",
      "journal_name            0.000000\n",
      "pub_name                9.690152\n",
      "is_hybrid               0.000000\n",
      "category               46.417999\n",
      "url_journal            54.581935\n",
      "citation_count_sum     64.528649\n",
      "paper_count_sum        64.528649\n",
      "avg_cites_per_paper    64.528649\n",
      "proj_ai                64.528649\n",
      "proj_ai_year           64.443129\n",
      "price                  48.871785\n",
      "date_stamp             48.871785\n",
      "influence_id           95.006907\n",
      "url_autor              97.730412\n",
      "license                97.664627\n",
      "dtype: float64\n"
     ]
    }
   ],
   "source": [
    "\n",
    "price = rename_df_headers(price, {\"journal_id\": \"issn\", \"url\": \"url_autor\"})\n",
    "journal = rename_df_headers(journal, {\"url\": \"url_journal\"})\n",
    "\n",
    "temp = pd.merge(journal, influence, on='issn', how='outer')\n",
    "check = len(temp[temp['journal_name_x'] != temp['journal_name_y']])\n",
    "print(f\"Nombre d'aberrances entre les valeurs journal_name des tables journal et influence: {check}\")\n",
    "temp = temp.drop(columns=['journal_name_y'])\n",
    "temp = rename_df_headers(temp, {\"journal_name_x\": \"journal_name\"})\n",
    "\n",
    "print(f\"Valeurs uniques des attributs de temp:\\n\"\n",
    "      f\"{get_uniqueness_attributes(temp)}\")\n",
    "\n",
    "data = pd.merge(temp, price, on=['issn'], how='outer')\n",
    "data = get_df_duplicated_rows_dropped(data)\n",
    "\n",
    "print(f\"Valeurs uniques des attributs de data:\\n\"\n",
    "      f\"{get_uniqueness_attributes(data)}\")\n",
    "print(f\"Ratio de valeurs vides pour les attributs de data:\\n\"\n",
    "      f\"{get_ratio_missing_values(data)}\")"
   ]
  },
  {
   "cell_type": "markdown",
   "metadata": {},
   "source": [
    "On s'assure bien que les valeurs de l'attribut issn de la nouvelle date (data) sont uniques."
   ]
  },
  {
   "cell_type": "markdown",
   "metadata": {},
   "source": [
    "## B. Y-a-t-il une corrÃ©lation entre les catÃ©gories de journaux (attribut category) et les coÃ»ts de publication \n",
    "(attribut price)? Justifier la rÃ©ponse.\n",
    "\n",
    "Afin de dÃ©terminer s'il existe une corrÃ©lation entre les catÃ©gories et l'attribut prix, on s'intÃ©resse Ã  chaque \n",
    "catÃ©gorie une Ã  une. \n",
    "Etant donnÃ© que chaque objet peut avoir plusieurs valeurs de catÃ©gories, on dÃ©cide de sÃ©parer les catÃ©gories selon les \n",
    "diffÃ©rents sÃ©parateurs observÃ©s (|, and, .). On les convertit ensuite en one hot.\n",
    "On calcule ensuite la corrÃ©lation catÃ©gorie par catÃ©gorie avec l'attribut prix. Pour cela, on ne considÃ¨re que les \n",
    "objets prÃ©sentant la catÃ©gorie testÃ©e et les valeurs de prix associÃ©es."
   ]
  },
  {
   "cell_type": "code",
   "execution_count": 25,
   "metadata": {},
   "outputs": [],
   "source": [
    "\n",
    "cat_labelled_data = data[data['category'].notna()]\n",
    "cat_data_to_predict = data[data['category'].isna()]"
   ]
  },
  {
   "cell_type": "code",
   "execution_count": 26,
   "metadata": {},
   "outputs": [
    {
     "name": "stderr",
     "output_type": "stream",
     "text": [
      "C:\\Users\\Agath\\AppData\\Roaming\\Python\\Python37\\site-packages\\ipykernel_launcher.py:1: SettingWithCopyWarning: \n",
      "A value is trying to be set on a copy of a slice from a DataFrame.\n",
      "Try using .loc[row_indexer,col_indexer] = value instead\n",
      "\n",
      "See the caveats in the documentation: http://pandas.pydata.org/pandas-docs/stable/user_guide/indexing.html#returning-a-view-versus-a-copy\n",
      "  \"\"\"Entry point for launching an IPython kernel.\n"
     ]
    },
    {
     "name": "stdout",
     "output_type": "stream",
     "text": [
      "Nombre de catÃ©gories aprÃ¨s sÃ©paration: 88\n"
     ]
    }
   ],
   "source": [
    "\n",
    "cat_labelled_data['category'] = cat_labelled_data['category'].str.replace(r'[\\.\\|&] | [\\.\\|&] | and ', '.', regex=True)\n",
    "category_dummies = cat_labelled_data['category'].str.get_dummies(sep='.')\n",
    "category_dummies_prefix = category_dummies.add_prefix('category_')\n",
    "print(f'Nombre de catÃ©gories aprÃ¨s sÃ©paration: {category_dummies.shape[1]}')\n",
    "# %%\n",
    "\n",
    "cat_labelled_data = pd.concat([cat_labelled_data, category_dummies_prefix], axis=1) \\\n",
    "    # .drop(columns=['category'])"
   ]
  },
  {
   "cell_type": "code",
   "execution_count": 27,
   "metadata": {},
   "outputs": [
    {
     "data": {
      "image/png": "[encoded data removed]",
      "text/plain": [
       "<Figure size 432x288 with 1 Axes>"
      ]
     },
     "metadata": {
      "needs_background": "light"
     },
     "output_type": "display_data"
    }
   ],
   "source": [
    "\n",
    "categories_correlation = {}\n",
    "\n",
    "for header in category_dummies_prefix.columns:\n",
    "    corr = cat_labelled_data[header].corr(cat_labelled_data['price'])\n",
    "    if abs(corr) > 0.1:\n",
    "        categories_correlation[header] = corr\n",
    "\n",
    "fig, ax = plt.subplots()\n",
    "plt.bar(categories_correlation.keys(), categories_correlation.values())\n",
    "plt.setp(ax.get_xticklabels(), rotation=30, horizontalalignment='right')\n",
    "plt.title(f'CatÃ©gories prÃ©sentant des corrÃ©lations fortes avec\\nl\\'attribut prix et leurs valeurs')\n",
    "plt.show()"
   ]
  },
  {
   "cell_type": "markdown",
   "metadata": {},
   "source": [
    "On remarque que certaines catÃ©gories prÃ©sentent effectement une lÃ©gÃ¨re corrÃ©lation avec l'attribut prix.\n",
    "(Les catÃ©gories prÃ©sentant une corrÃ©lation infÃ©rieures Ã  0.1 ne sont pas incluses dans le graphe)\n",
    "Les catÃ©gories prÃ©sentant la plus forte corrÃ©lation sont 'cell biology' et 'molecular'.\n",
    "Cependant, cette corrÃ©lation remarquÃ©e est trÃ¨s faible et peut Ãªtre nÃ©gligeable."
   ]
  },
  {
   "cell_type": "markdown",
   "metadata": {},
   "source": [
    "## C. Construire un modÃ¨le pour prÃ©dire les valeurs de catÃ©gorie de journaux manquantes de la faÃ§on la plus prÃ©cise\n",
    "possible (cela inclut la sÃ©lection dâ€™attributs informatifs, le choix et le paramÃ©trage dâ€™un modÃ¨le de classification,\n",
    "le calcul du score du modÃ¨le, lâ€™application du modÃ¨le pour prÃ©dire les catÃ©gories manquantes). Justifier les choix\n",
    "effectuÃ©s.\n",
    "TODO: remove attributes price and citations from 2.C and ajust justification\n",
    "Dans le but de prÃ©dire les catÃ©gories de journaux, on doit s'intÃ©resser Ã  plusieurs attributs qui pourraient nous\n",
    "aider. Le nom du journal pourrait inclure certains mots-clÃ©s qui pourraient s'apparenter aux catÃ©gories du journal.\n",
    "Le nom de l'Ã©diteur pourrait Ã©galement apporter de l'information sur les catÃ©gories.\n",
    "Etant donnÃ© qu'on a pu trouver certaines corrÃ©lations entre l'attribut prix et les catÃ©gories, on prend Ã©galement en\n",
    "compte ce paramÃ¨tre.\n",
    "Les informations de citation du journal pourraient Ã©galement se rÃ©vÃ©ler porteuses d'informations, ainsi que l'influence\n",
    "des articles."
   ]
  },
  {
   "cell_type": "code",
   "execution_count": 28,
   "metadata": {},
   "outputs": [],
   "source": [
    "\n",
    "cat_labelled_data = cat_labelled_data[cat_labelled_data['price'].notna()]\n",
    "headers = ['citation_count_sum', 'paper_count_sum', 'avg_cites_per_paper', 'proj_ai', 'price']\n",
    "cat_labelled_data = cat_labelled_data.dropna(axis=0, subset=headers)"
   ]
  },
  {
   "cell_type": "code",
   "execution_count": 29,
   "metadata": {},
   "outputs": [
    {
     "name": "stderr",
     "output_type": "stream",
     "text": [
      "100%|██████████████████████████████████████████████████████████████████████████████████| 88/88 [01:25<00:00,  1.04it/s]\n"
     ]
    }
   ],
   "source": [
    "\n",
    "for header in tqdm(category_dummies.columns):\n",
    "    cat_labelled_data['jn_' + header] = cat_labelled_data.apply(partial(get_score_sequence_matching, c1='journal_name',\n",
    "                                                                category=header), axis=1)\n",
    "    cat_labelled_data['pn_' + header] = cat_labelled_data.apply(partial(get_score_sequence_matching, c1='pub_name',\n",
    "                                                                category=header), axis=1)"
   ]
  },
  {
   "cell_type": "code",
   "execution_count": 30,
   "metadata": {},
   "outputs": [
    {
     "name": "stdout",
     "output_type": "stream",
     "text": [
      "size cat_labelled_data before splitting: 2140\n"
     ]
    }
   ],
   "source": [
    "\n",
    "cat_labelled_data = cat_labelled_data.drop(columns=['category'])\n",
    "print(f'size cat_labelled_data before splitting: {cat_labelled_data.shape[0]}')"
   ]
  },
  {
   "cell_type": "code",
   "execution_count": 31,
   "metadata": {},
   "outputs": [],
   "source": [
    "\n",
    "jn_sm_headers = cat_labelled_data.filter(like='jn_').columns.to_list()\n",
    "pn_sm_headers = cat_labelled_data.filter(like='pn_').columns.to_list()\n",
    "# TODO: add date_stamp to attributes_of_interest\n",
    "attributes_of_interest = ['citation_count_sum', 'paper_count_sum', 'avg_cites_per_paper', 'proj_ai', 'price',\n",
    "                          # 'date_stamp',\n",
    "                          ]\n",
    "attributes_of_interest.extend(jn_sm_headers)\n",
    "attributes_of_interest.extend(pn_sm_headers)"
   ]
  },
  {
   "cell_type": "markdown",
   "metadata": {},
   "source": [
    "### Entrainement\n",
    "On applique des modÃ¨les de classification ayant la capacitÃ© de pouvoir prÃ©duire des labels multiples.\n",
    "Pour cela, on utilise la mÃ©thode MultiOutputClassifier de sklearn afin qui consiste Ã  adapter un classificateur par\n",
    "cible.\n",
    "A partir de lÃ , on a pu essayer plusieurs types de classification, les deux meilleurs se sont rÃ©vÃ©lÃ©s Ãªtre les random\n",
    "forest et les K plus proches voisins.\n",
    "\n",
    "Le code suivant sert Ã  faire une recherche d'hyperparamÃ¨tres (succinte) sur un classification random forest.\n",
    "Pour le confort du temps de compilation, je n'ai pas intÃ©grÃ© au rendu le classification K plus proche voisin, cependant\n",
    "le rÃ©sultat du meilleur modÃ¨le trouvÃ© est dÃ©crit ci-dessous."
   ]
  },
  {
   "cell_type": "code",
   "execution_count": 32,
   "metadata": {},
   "outputs": [
    {
     "name": "stdout",
     "output_type": "stream",
     "text": [
      "ModÃ¨le RandomForestClassifier 13\n",
      "-- Entrainement\n",
      "Score d'entraÃ®nement: 0.994417306350314\n",
      "-- Test\n",
      "Score de test: 0.7298444130127298\n",
      "Le modÃ¨le prÃ©sentant le meilleur score est RandomForestClassifier 13 avec 0.7298444130127298\n"
     ]
    }
   ],
   "source": [
    "\n",
    "clfs = {'RandomForestClassifier': RandomForestClassifier()}\n",
    "\n",
    "best_model = {'name': '', 'score': 0, 'model': None}\n",
    "for name, clf in clfs.items():\n",
    "    # for i in range(15, 17): # TODO\n",
    "    for i in range(13, 14):\n",
    "        X_train, X_test, y_train, y_test = train_test_split(cat_labelled_data[attributes_of_interest],\n",
    "                                                            cat_labelled_data[category_dummies_prefix.columns],\n",
    "                                                            test_size=0.33, random_state=42)\n",
    "        X_train = X_train[attributes_of_interest]\n",
    "        X_test = X_test[attributes_of_interest]\n",
    "        y_train = y_train.to_numpy()\n",
    "\n",
    "        clf.set_params(max_depth=i)\n",
    "\n",
    "        print(f'ModÃ¨le {name} {i}')\n",
    "        print('-- Entrainement')\n",
    "        classifier = MultiOutputClassifier(clf, n_jobs=-1)\n",
    "        classifier.fit(X_train, y_train)\n",
    "        train_score = classifier.score(X_train, y_train)\n",
    "        print(f'Score d\\'entraÃ®nement: {train_score}')\n",
    "\n",
    "        print('-- Test')\n",
    "        test_predictions = classifier.predict(X_test)\n",
    "        test_score = classifier.score(X_test, y_test)\n",
    "        print(f'Score de test: {test_score}')\n",
    "\n",
    "        if test_score > best_model.get('score'):\n",
    "            best_model['name'], best_model['score'], best_model['model'] = name + ' ' + str(i), test_score, classifier\n",
    "\n",
    "print(f\"Le modÃ¨le prÃ©sentant le meilleur score est {best_model.get('name')} avec {best_model.get('score')}\")"
   ]
  },
  {
   "cell_type": "markdown",
   "metadata": {},
   "source": [
    "RÃ©sultats des diffÃ©rents essais:\n",
    "\n",
    "ModÃ¨le RandomForestClassifier 12\n",
    "-- Entrainement\n",
    "Score d'entraÃ®nement: 0.9916259595254711\n",
    "-- Test\n",
    "Score de test: 0.7312588401697313\n",
    "\n",
    "ModÃ¨le RandomForestClassifier 13\n",
    "-- Entrainement\n",
    "Score d'entraÃ®nement: 0.994417306350314\n",
    "-- Test\n",
    "Score de test: 0.7369165487977369"
   ]
  },
  {
   "cell_type": "markdown",
   "metadata": {},
   "source": [
    "On conclut ainsi que le classificateur random forest ayant une profondeur maximale de 13 prÃ©sente des rÃ©sultats se\n",
    "trouve Ãªtre le plus performant.\n",
    "Aussi, on se trouve en prÃ©sence de rÃ©sultats trÃ¨s performants, Ã©tant donnÃ© qu'on dispose de 88 catÃ©gories."
   ]
  },
  {
   "cell_type": "markdown",
   "metadata": {},
   "source": [
    "### PrÃ©dictions"
   ]
  },
  {
   "cell_type": "code",
   "execution_count": 33,
   "metadata": {},
   "outputs": [],
   "source": [
    "\n",
    "cat_data_to_predict = cat_data_to_predict.dropna(axis=0, subset=headers)"
   ]
  },
  {
   "cell_type": "code",
   "execution_count": 34,
   "metadata": {},
   "outputs": [
    {
     "name": "stderr",
     "output_type": "stream",
     "text": [
      "100%|██████████████████████████████████████████████████████████████████████████████████| 88/88 [01:42<00:00,  1.17s/it]\n"
     ]
    }
   ],
   "source": [
    "\n",
    "for header in tqdm(category_dummies.columns):\n",
    "    cat_data_to_predict['jn_' + header] = cat_data_to_predict.apply(partial(get_score_sequence_matching, c1='journal_name',\n",
    "                                                                    category=header), axis=1)\n",
    "    cat_data_to_predict['pn_' + header] = cat_data_to_predict.apply(partial(get_score_sequence_matching, c1='pub_name',\n",
    "                                                                    category=header), axis=1)"
   ]
  },
  {
   "cell_type": "code",
   "execution_count": 35,
   "metadata": {},
   "outputs": [],
   "source": [
    "\n",
    "clf = best_model.get('model')\n",
    "predictions = pd.DataFrame(clf.predict(cat_data_to_predict[attributes_of_interest]))\n",
    "predictions.columns = category_dummies_prefix.columns"
   ]
  },
  {
   "cell_type": "code",
   "execution_count": 36,
   "metadata": {},
   "outputs": [],
   "source": [
    "\n",
    "count_categories = {}\n",
    "for header in predictions.columns:\n",
    "    nb = predictions[header].sum()\n",
    "    if nb >= 1:\n",
    "        count_categories[header] = nb"
   ]
  },
  {
   "cell_type": "code",
   "execution_count": 37,
   "metadata": {},
   "outputs": [
    {
     "data": {
      "image/png": "[encoded data removed]",
      "text/plain": [
       "<Figure size 432x288 with 1 Axes>"
      ]
     },
     "metadata": {
      "needs_background": "light"
     },
     "output_type": "display_data"
    }
   ],
   "source": [
    "\n",
    "fig, ax = plt.subplots()\n",
    "plt.bar(count_categories.keys(), count_categories.values())\n",
    "plt.setp(ax.get_xticklabels(), rotation=30, horizontalalignment='right')\n",
    "plt.title(f'')\n",
    "plt.show()"
   ]
  },
  {
   "cell_type": "code",
   "execution_count": 38,
   "metadata": {},
   "outputs": [],
   "source": [
    "\n",
    "# add categories predictions to their objects in table cat_data_to_predict\n",
    "predictions = predictions.set_index(cat_data_to_predict.index.copy())\n",
    "for header in predictions.columns:\n",
    "    cat_data_to_predict[header] = predictions[header]"
   ]
  },
  {
   "cell_type": "markdown",
   "metadata": {},
   "source": [
    "# Question 3: RÃ©gression-clustering\n",
    "## A. Supprimer tous les attributs ayant plus de 50% de donnÃ©es manquantes.\n",
    "\n",
    "On Ã©tablit les attributs Ã  Ã©liminer selon leur taux de valeurs manquantes avec nos 3 tables originales (journal, price\n",
    "et influence).\n",
    "On utilise nos donnÃ©es dÃ©jÃ  travaillÃ©es qui sont dans les tables cat_labelled_data et cat_data_to_predict car celles-ci\n",
    "prÃ©sentent toutes les donnÃ©es dont nous avons besoin. Comme on a des bons rÃ©sultats de prÃ©dictions, on peut se \n",
    "permettre de les utiliser pour la suite du travail. C'est donc sur ces donnÃ©es que nous allons Ã©liminÃ©s ces attributs.\n",
    "On Ã©tablit alors une nouvelle table (data) avec toutes ces donnÃ©es et les attributs prÃ©sentant trop de valeurs \n",
    "manquantes."
   ]
  },
  {
   "cell_type": "code",
   "execution_count": 39,
   "metadata": {},
   "outputs": [
    {
     "name": "stdout",
     "output_type": "stream",
     "text": [
      "Attributs Ã  Ã©liminer de la table journal: ['url_journal']\n",
      "Attributs Ã  Ã©liminer de la table price: ['influence_id', 'url_autor', 'license']\n",
      "Attributs Ã  Ã©liminer de la table influence: []\n"
     ]
    }
   ],
   "source": [
    "\n",
    "print(f'Attributs Ã  Ã©liminer de la table journal: {get_empty_attribute_to_remove(journal)}')\n",
    "print(f'Attributs Ã  Ã©liminer de la table price: {get_empty_attribute_to_remove(price)}')\n",
    "print(f'Attributs Ã  Ã©liminer de la table influence: {get_empty_attribute_to_remove(influence)}')"
   ]
  },
  {
   "cell_type": "code",
   "execution_count": 40,
   "metadata": {},
   "outputs": [],
   "source": [
    "\n",
    "cat_data_to_predict = cat_data_to_predict.drop(columns='category')\n",
    "data = cat_labelled_data.append(cat_data_to_predict, sort=False)\n",
    "data = data.drop(columns=['url_journal', 'influence_id', 'url_autor', 'license'])"
   ]
  },
  {
   "cell_type": "markdown",
   "metadata": {},
   "source": [
    "## B. Construire un modÃ¨le pour prÃ©dire le coÃ»t actuel de publication (attribut Â«priceÂ») Ã  partir des autres attributs \n",
    "(cela inclut la sÃ©lection dâ€™attributs informatifs, le choix et le paramÃ©trage dâ€™un modÃ¨le de rÃ©gression, le calcul du \n",
    "score du modÃ¨le, lâ€™application du modÃ¨le pour prÃ©dire les coÃ»ts).Justifier les choix effectuÃ©s.\n",
    "Lister les 10 revues qui sâ€™Ã©cartent le plus (en + ou -) de la valeur prÃ©dite.\n",
    " \n",
    " \n",
    "Tout d'abord, nous dÃ©cidons de ne pas utiliser les attributs Ã  Ã©liminer prÃ©senter un nombre consÃ©quent de valeurs \n",
    "manquantes, que nous avons trouvÃ©s dans la question 3.A\n",
    " \n",
    "L'attribut date_stamp dans price Ã©tablissant la date Ã  laquelle le prix a Ã©tÃ© mesurÃ© semble intÃ©ressant.\n",
    "\n",
    "On a vu question 2B que l'attribut prix n'est pas fortement corrÃ©lÃ©s aux catÃ©gories d'un journal, cependant il existait\n",
    "certaines catÃ©gories prÃ©sentant une certaine corrÃ©lation non nÃ©gligeable. On peut reprendre alors les catÃ©gories que \n",
    "l'on a transformÃ©s en one hot Ã  la question 2.C. Aussi, Ã©tant donnÃ© les bons rÃ©sultats du modÃ¨le de classification des\n",
    "catÃ©gories trouvÃ© prÃ©cÃ©demment, on envisage d'utiliser Ã©galement ces objets. \n",
    "L'information d'un journal sur son hybridicitÃ© pourrait Ã©galement faire varier son prix \n",
    "\n",
    "Les attributs de la table influence semblent Ãªtre pertinentes pour la prÃ©diction du prix, en effet, tous les \n",
    "informations sur le nombre de citations pourraient se rÃ©vÃ©ler intÃ©ressantes quant Ã  la prÃ©diction du prix d'un \n",
    "journal. Aussi, l'attribut informant sur le score d'influence du journal pourrait se rÃ©vÃ©ler intÃ©ressant. \n",
    "Etant donnÃ© que l'attribut proj_ai_year prÃ©sente toujours la mÃªme valeur, il n'est pas vraiment pertinent de le \n",
    "conserver. \n",
    "\n",
    "### Construction et estimation des performances du modÃ¨le"
   ]
  },
  {
   "cell_type": "code",
   "execution_count": 41,
   "metadata": {},
   "outputs": [],
   "source": [
    "\n",
    "attributes_of_interest = [\n",
    "    #     'date_stamp',\n",
    "    'citation_count_sum', 'paper_count_sum', 'avg_cites_per_paper', 'proj_ai',\n",
    "    'is_hybrid', 'price']\n",
    "attributes_of_interest.extend(category_dummies_prefix.columns)"
   ]
  },
  {
   "cell_type": "code",
   "execution_count": 42,
   "metadata": {},
   "outputs": [],
   "source": [
    "\n",
    "price_labelled_data = data[attributes_of_interest]"
   ]
  },
  {
   "cell_type": "code",
   "execution_count": 43,
   "metadata": {},
   "outputs": [
    {
     "name": "stdout",
     "output_type": "stream",
     "text": [
      "-- Entrainement\n",
      "Score d'entraÃ®nement: 0.9291023324132746\n",
      "-- Test\n",
      "Score de test: 0.8039827306554684\n"
     ]
    }
   ],
   "source": [
    "\n",
    "X_train, X_test, y_train, y_test = train_test_split(price_labelled_data.drop(columns='price'),\n",
    "                                                    price_labelled_data['price'],\n",
    "                                                    test_size=0.33, random_state=42)\n",
    "\n",
    "regr = RandomForestRegressor(max_depth=22, n_estimators=300, n_jobs=-1)\n",
    "print('-- Entrainement')\n",
    "regr.fit(X_train, y_train)\n",
    "train_score = regr.score(X_train, y_train)\n",
    "print(f'Score d\\'entraÃ®nement: {train_score}')\n",
    "\n",
    "print('-- Test')\n",
    "test_predictions = regr.predict(X_test)\n",
    "test_score = regr.score(X_test, y_test)\n",
    "print(f'Score de test: {test_score}')"
   ]
  },
  {
   "cell_type": "markdown",
   "metadata": {},
   "source": [
    "### Application du modÃ¨le"
   ]
  },
  {
   "cell_type": "code",
   "execution_count": 44,
   "metadata": {},
   "outputs": [],
   "source": [
    "\n",
    "predictions = pd.DataFrame(regr.predict(price_labelled_data.drop(columns='price')))\n",
    "predictions = predictions.set_index(data.index.copy())"
   ]
  },
  {
   "cell_type": "code",
   "execution_count": 45,
   "metadata": {},
   "outputs": [],
   "source": [
    "\n",
    "difference_pred_real = dict()\n",
    "for index, p in predictions.iterrows():\n",
    "    difference_pred_real[data['journal_name'][index]] = abs(p[0] - data['price'][index])"
   ]
  },
  {
   "cell_type": "code",
   "execution_count": 52,
   "metadata": {},
   "outputs": [
    {
     "name": "stdout",
     "output_type": "stream",
     "text": [
      "Journaux dont leur prédiction du prix s'éloigne le plus de la réalité:\n",
      "\n",
      "international journal of applied research in veterinary medicine : 3646.929535743793\n",
      "experimental and molecular medicine : 3244.6385167614303\n",
      "journal of veterinary medical science : 2421.976014392573\n",
      "annals of thoracic and cardiovascular surgery : 2384.665683409054\n",
      "ebiomedicine : 2374.2853515584434\n",
      "bulletin of the american meteorological society : 2229.478635361552\n",
      "npg asia materials : 2185.5534422407304\n",
      "canadian journal of diabetes : 1990.3830378787877\n",
      "journal of the brazilian society of mechanical sciences and engineering : 1988.9836462703593\n",
      "journal of natural products : 1933.1339023964788\n"
     ]
    }
   ],
   "source": [
    "print(f'Journaux dont leur prédiction du prix s\\'éloigne le plus de la réalité:\\n')\n",
    "worst_predictions = np.array(heapq.nlargest(10, difference_pred_real, key=difference_pred_real.get))\n",
    "worst_predictions_values = []\n",
    "for p in worst_predictions:\n",
    "    worst_predictions_values.append(difference_pred_real.get(p))\n",
    "    print(f'{p} : {difference_pred_real.get(p)}')\n",
    "\n",
    "worst_predictions = np.vstack([worst_predictions, worst_predictions_values])"
   ]
  },
  {
   "cell_type": "code",
   "execution_count": 47,
   "metadata": {},
   "outputs": [
    {
     "data": {
      "text/plain": [
       "array([['international journal of applied research in veterinary medicine',\n",
       "        'experimental and molecular medicine',\n",
       "        'journal of veterinary medical science',\n",
       "        'annals of thoracic and cardiovascular surgery', 'ebiomedicine',\n",
       "        'bulletin of the american meteorological society',\n",
       "        'npg asia materials', 'canadian journal of diabetes',\n",
       "        'journal of the brazilian society of mechanical sciences and engineering',\n",
       "        'journal of natural products'],\n",
       "       ['3646.929535743793', '3244.6385167614303', '2421.976014392573',\n",
       "        '2384.665683409054', '2374.2853515584434', '2229.478635361552',\n",
       "        '2185.5534422407304', '1990.3830378787877', '1988.9836462703593',\n",
       "        '1933.1339023964788']], dtype='<U71')"
      ]
     },
     "execution_count": 47,
     "metadata": {},
     "output_type": "execute_result"
    }
   ],
   "source": []
  }
 ],
 "metadata": {
  "anaconda-cloud": {},
  "kernelspec": {
   "display_name": "Python 3",
   "language": "python",
   "name": "python3"
  },
  "language_info": {
   "codemirror_mode": {
    "name": "ipython",
    "version": 3
   },
   "file_extension": ".py",
   "mimetype": "text/x-python",
   "name": "python",
   "nbconvert_exporter": "python",
   "pygments_lexer": "ipython3",
   "version": "3.7.1"
  }
 },
 "nbformat": 4,
 "nbformat_minor": 1
}
