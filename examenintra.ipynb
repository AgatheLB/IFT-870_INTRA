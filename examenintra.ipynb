{
 "cells": [
  {
   "cell_type": "code",
   "execution_count": null,
   "metadata": {},
   "outputs": [],
   "source": [
    "\n",
    "# leba3207\n",
    "\n",
    "import numpy as np\n",
    "import pandas as pd\n",
    "import matplotlib.pyplot as plt\n",
    "\n",
    "standard_journal_categories = [\"ANTHROPOLOGY\", \"ASTRONOMY AND ASTROPHYSICS\", \"CIRCUITS\", \"COMPUTER SCIENCE\",\n",
    "                               \"DENTISTRY\", \"DERMATOLOGY\", \"ECOLOGY AND EVOLUTION\", \"ECONOMICS\", \"EDUCATION\", \"ENERGY\",\n",
    "                               \"ENVIRONMENTAL HEALTH\", \"FOOD SCIENCE\", \"GASTROENTEROLOGY\", \"GEOTECHNOLOGY\",\n",
    "                               \"HIGH ENERGY PHYSICS\", \"HISTORY AND PHILOSOPHY OF SCIENCE\", \"INFECTIOUS DISEASES\",\n",
    "                               \"INFORMATION SCIENCE\", \"LAW\", \"LINGUISTICS\", \"MARKETING\", \"MATHEMATICS\", \"MEDICINE\",\n",
    "                               \"MOLECULAR AND CELL BIOLOGY\", \"MYCOLOGY\", \"NEPHROLOGY\", \"NEUROSCIENCE\", \"ONCOLOGY\",\n",
    "                               \"OPERATIONS RESEARCH\", \"OPHTHALMOLOGY\", \"ORTHOPEDICS\", \"PHARMACOLOGY\",\n",
    "                               \"PHYSICS AND CHEMISTRY\", \"PLANT BIOLOGY\", \"PLASTIC SURGERY\", \"POLITICAL SCIENCE\",\n",
    "                               \"PSYCHIATRY\", \"PSYCHOLOGY\", \"RADIOLOGY\", \"RHEUMATOLOGY\", \"ROBOTICS\", \"SOCIOLOGY\",\n",
    "                               \"SPORTS MEDICINE\", \"STRUCTURAL ENGINEERING\", \"UROLOGY\", \"VETERINARY\", \"WOOD PRODUCTS\"]"
   ]
  },
  {
   "cell_type": "markdown",
   "metadata": {},
   "source": [
    "Chargement des donnÃ©es des diffÃ©rents fichiers"
   ]
  },
  {
   "cell_type": "code",
   "execution_count": null,
   "metadata": {},
   "outputs": [],
   "source": [
    "\n",
    "data_folder = 'data/'\n",
    "\n",
    "journal_file = 'api_journal11-13-17.csv'\n",
    "price_file = 'api_price11-13-17.csv'\n",
    "influence_file = 'estimated-article-influence-scores-2015.csv'\n",
    "\n",
    "journal = pd.read_csv(data_folder + journal_file, sep=',', encoding='latin1')\n",
    "price = pd.read_csv(data_folder + price_file, sep=',', index_col=0)\n",
    "influence = pd.read_csv(data_folder + influence_file, sep=',', index_col=0)\n"
   ]
  },
  {
   "cell_type": "code",
   "execution_count": null,
   "metadata": {},
   "outputs": [],
   "source": [
    "\n",
    "def get_uniqueness_attributes(table):\n",
    "    return table.nunique(axis=0)\n",
    "\n",
    "\n",
    "def get_ratio_missing_values(table):\n",
    "    return table.isnull().sum() * 100 / len(table)\n",
    "\n",
    "\n",
    "def get_unique_values_of_attribute(table, header):\n",
    "    return table[header].unique()\n",
    "\n",
    "\n",
    "def lowercase_columns(table, headers):\n",
    "    for header in headers:\n",
    "        table[header] = table[header].str.lower()\n",
    "\n",
    "\n",
    "# TODO: include headers specification\n",
    "def get_df_duplicated_rows_dropped(table):\n",
    "    return table.drop_duplicates()\n",
    "\n",
    "\n",
    "def plot_categories_frequency(table, header):\n",
    "    fig, ax = plt.subplots()\n",
    "    table[header].value_counts()[0:5].plot(ax=ax, kind='bar')\n",
    "    plt.title(f'FrÃ©quence d\\'apparition des catÃ©gories de l\\'attribut {header}')\n",
    "    plt.show()\n",
    "\n",
    "\n",
    "def get_mean_price_per_year():\n",
    "    mean_price_per_year = {}\n",
    "    for index, p in price.iterrows():\n",
    "        year = p['date_stamp'].year\n",
    "        if year in mean_price_per_year:\n",
    "            mean_price_per_year[year] += p['price']\n",
    "        else:\n",
    "            mean_price_per_year[year] = p['price']\n",
    "\n",
    "    for year, value in mean_price_per_year.items():\n",
    "        mean_price_per_year[year] /= len(price[price['price'] != 0])\n",
    "    return {k: v for k, v in sorted(mean_price_per_year.items(), key=lambda item: item[1], reverse=True)}\n",
    "\n",
    "\n",
    "def rename_df_headers(table, dict_headers):\n",
    "    return table.rename(columns=dict_headers)\n"
   ]
  },
  {
   "cell_type": "code",
   "execution_count": null,
   "metadata": {},
   "outputs": [],
   "source": [
    "\n",
    "\"\"\"\n",
    "# Question 1: Exploration-Description\n",
    "## PrÃ©senter une description de chacun des attributs des 3 tables, avec des graphiques pour la visualisation des \n",
    "statistiques descriptives au besoin.\n",
    "\n",
    "### Table journal\n",
    "\"\"\""
   ]
  },
  {
   "cell_type": "code",
   "execution_count": null,
   "metadata": {},
   "outputs": [],
   "source": [
    "# TODO: visualisations\n",
    "# frÃ©quence des valeurs"
   ]
  },
  {
   "cell_type": "code",
   "execution_count": null,
   "metadata": {},
   "outputs": [],
   "source": [
    "\n",
    "print(journal.head())"
   ]
  },
  {
   "cell_type": "code",
   "execution_count": null,
   "metadata": {},
   "outputs": [],
   "source": [
    "\n",
    "\"\"\"\n",
    "issn: identifiant du journal\n",
    "Les valeurs de cet attribut semblent suivre un format particulier tel que: 4 digits - 4 digits\n",
    "\n",
    "journal_name: nom textuel du journal\n",
    "Les valeurs sont textuelles, ne suivant pas de valeurs catÃ©gorielles particuliÃ¨re Ã  priori.\n",
    "\n",
    "pub_name: nom de l'Ã©diteur du journal\n",
    "Les valeurs sont textuelles, ne suivant pas de valeurs catÃ©gorielles particuliÃ¨re Ã  priori.\n",
    "\n",
    "is_hybrid: indique si le journal est hybride, ce qui signifie que c'est une revue sur abonnement dont certains articles\n",
    "sont en libre accÃ¨s, comme l'indique le site http://flourishoa.org/about.\n",
    "\n",
    "category: renseigne sur la/les catÃ©gorie(s) des sujets abordÃ©s par le journal \n",
    "Les valeurs sont textuelles et sont catÃ©gorielles. Chaque objet peut possÃ©der des valeurs multiples pour cet attribut. La sÃ©paration entre les diffÃ©rentes valeurs semblent\n",
    "Ãªtre inconsistante.\n",
    "\n",
    "url: indique l'adresse url du site du journal\n",
    "\n",
    "\n",
    "Les attributs journal_name, pub_name et category Ã©tant des donnÃ©es textuelles trÃ¨s inconsistantes, je dÃ©cide avant tout\n",
    "traitement et Ã©tude supplÃ©mentaire de transformer les valeurs en minuscule pour limiter au maximum l'inconsistence.\n",
    "\"\"\""
   ]
  },
  {
   "cell_type": "code",
   "execution_count": null,
   "metadata": {},
   "outputs": [],
   "source": [
    "\n",
    "lowercase_columns(journal, ['journal_name', 'pub_name', 'category'])"
   ]
  },
  {
   "cell_type": "code",
   "execution_count": null,
   "metadata": {},
   "outputs": [],
   "source": [
    "\n",
    "print(f\"Valeurs uniques des attributs de journal:\\n\"\n",
    "      f\"{get_uniqueness_attributes(journal)}\")\n",
    "print(f\"Ratio de valeurs vides pour les attributs de journal:\\n\"\n",
    "      f\"{get_ratio_missing_values(journal)}\")\n",
    "\n",
    "print(f\"Valeurs possibles pour l'attribut is_hybrid de journal:\\n\"\n",
    "      f\"{get_unique_values_of_attribute(journal, 'is_hybrid')}\")\n",
    "print(f\"Valeurs possibles pour l'attribut category de journal:\\n\"\n",
    "      f\"{get_unique_values_of_attribute(journal, 'category')}\")"
   ]
  },
  {
   "cell_type": "markdown",
   "metadata": {},
   "source": [
    "Les attributs category et url prÃ©sentent un nombre consÃ©quent de valeurs manquantes.\n",
    "L'attribut issn prÃ©sente des valeurs uniques pour chacun de ses objets.\n",
    "\n",
    "On remarque qu'il existe uniquement deux valeurs pour l'attribut is_hybrid (soit 1 soit 0). "
   ]
  },
  {
   "cell_type": "code",
   "execution_count": null,
   "metadata": {},
   "outputs": [],
   "source": [
    "\n",
    "print(f\"Valeurs possibles de pub_name quand is_hybrid vaut 1:\\n\"\n",
    "      f\"{journal[journal['is_hybrid'] == 1]['pub_name'].unique()}\")"
   ]
  },
  {
   "cell_type": "code",
   "execution_count": null,
   "metadata": {},
   "outputs": [],
   "source": [
    "\n",
    "plot_categories_frequency(journal, 'pub_name')\n",
    "plot_categories_frequency(journal, 'category')"
   ]
  },
  {
   "cell_type": "markdown",
   "metadata": {},
   "source": [
    "### Table price"
   ]
  },
  {
   "cell_type": "code",
   "execution_count": null,
   "metadata": {},
   "outputs": [],
   "source": [
    "\n",
    "print(price.head())"
   ]
  },
  {
   "cell_type": "markdown",
   "metadata": {},
   "source": [
    "price: information du prix d'une publication pour le journal associÃ© Ã  une date prÃ©cise, en dollar US\n",
    "Si celui-ci est Ã  0, on peut coompendre que celui-ci est gratuit\n",
    "\n",
    "date_stamp: horodatage de l'information de prix d'une publication, en format annÃ©es-mois-jour\n",
    "\n",
    "journal_id: identifiant du journal\n",
    "Les valeurs semblent suivre consistantement un format du type: 4 digits - 4 digits\n",
    "\n",
    "influence_id: identifiant de l'influence\n",
    "Les valeurs suivent un format 4 digits.\n",
    "\n",
    "url: indique l'adresse url du site de l'auteur\n",
    "\n",
    "license: indique le type de license utilisÃ© par le journal pour les diffÃ©rents articles utilisÃ©s.\n",
    "\n",
    "\n",
    "On convertit l'attribut date_stamp en type date."
   ]
  },
  {
   "cell_type": "code",
   "execution_count": null,
   "metadata": {},
   "outputs": [],
   "source": [
    "\n",
    "price['date_stamp'] = pd.to_datetime(price['date_stamp'], errors='coerce', format='%Y-%m-%d')"
   ]
  },
  {
   "cell_type": "code",
   "execution_count": null,
   "metadata": {},
   "outputs": [],
   "source": [
    "\n",
    "print(f\"Valeurs uniques des attributs de price:\\n\"\n",
    "      f\"{get_uniqueness_attributes(price)}\")\n",
    "print(f\"Ratio de valeurs vides pour les attributs de price:\\n\"\n",
    "      f\"{get_ratio_missing_values(price)}\")\n",
    "\n",
    "print(f\"Exemples de valeurs possibles pour l'attribut influence_id de price:\\n\"\n",
    "      f\"{get_unique_values_of_attribute(price, 'influence_id')[1:8]}\")\n",
    "print(f\"Valeurs possibles pour l'attribut license de price:\\n\"\n",
    "      f\"{get_unique_values_of_attribute(price, 'license')}\")"
   ]
  },
  {
   "cell_type": "markdown",
   "metadata": {},
   "source": [
    "Les attributs influence_id, url et license prÃ©sentent une majoritÃ© de valeurs manquantes."
   ]
  },
  {
   "cell_type": "code",
   "execution_count": null,
   "metadata": {},
   "outputs": [],
   "source": [
    "\n",
    "mean_price_per_year = get_mean_price_per_year()\n",
    "\n",
    "plt.bar(range(len(mean_price_per_year)), mean_price_per_year.values())\n",
    "plt.xticks(range(len(mean_price_per_year)), mean_price_per_year.keys())\n",
    "plt.title(\"Moyenne par annÃ©e des prix des publications\")\n",
    "plt.show()"
   ]
  },
  {
   "cell_type": "markdown",
   "metadata": {},
   "source": [
    "### Table influence"
   ]
  },
  {
   "cell_type": "code",
   "execution_count": null,
   "metadata": {},
   "outputs": [],
   "source": [
    "\n",
    "print(influence.head())\n",
    "\n",
    "# TODO: proj_ai, proj_ai_year\n",
    "# %%\n",
    "\"\"\"\n",
    "\n",
    "journal_name: nom textuel du journal\n",
    "Les valeurs sont textuelles, ne suivant pas de valeurs catÃ©gorielles particuliÃ¨re Ã  priori.\n",
    "\n",
    "issn: identifiant du journal\n",
    "Les valeurs de cet attribut semblent suivre un format particulier tel que: 4 digits - 4 digits\n",
    "\n",
    "citation_count_sum: indique le nombre de citations du jounal\n",
    "\n",
    "paper_count_sum: indique le nombre de citations des articles du jounal\n",
    "\n",
    "avg_cites_per_paper: indique la moyenne des citations par papier qui sont contenus du journal\n",
    "\n",
    "proj_ai:\n",
    "\n",
    "proj_ai_year:\n",
    "\n",
    "\"\"\""
   ]
  },
  {
   "cell_type": "code",
   "execution_count": null,
   "metadata": {},
   "outputs": [],
   "source": [
    "\n",
    "print(f\"Valeurs uniques des attributs de influence:\\n\"\n",
    "      f\"{get_uniqueness_attributes(influence)}\")\n",
    "print(f\"Ratio de valeurs vides pour les attributs de influence:\\n\"\n",
    "      f\"{get_ratio_missing_values(influence)}\")"
   ]
  },
  {
   "cell_type": "code",
   "execution_count": null,
   "metadata": {},
   "outputs": [],
   "source": [
    "\n",
    "\"\"\"\n",
    "# Question 2: PrÃ©traitement-ReprÃ©sentation\n",
    "## A. Effectuer un prÃ©traitement des donnÃ©es pour supprimer les duplications et corriger les incohÃ©rences sâ€™il y en a.\n",
    "\"\"\""
   ]
  },
  {
   "cell_type": "markdown",
   "metadata": {},
   "source": [
    "### Table journal\n",
    "Dans un premier temps, on Ã©limine les objets prÃ©sentant des objets dupliquÃ©s sur tous les attributs.\n",
    "On se base sur l'attribut issn qui devrait Ãªtre unique pour chaque objet de la table, on vÃ©rifie son unicitÃ©."
   ]
  },
  {
   "cell_type": "code",
   "execution_count": null,
   "metadata": {},
   "outputs": [],
   "source": [
    "\n",
    "nb = len(journal)\n",
    "journal = get_df_duplicated_rows_dropped(journal)\n",
    "print(f\"Nombre d'objets dupliquÃ©s Ã©liminÃ©s dans journal: {nb - len(journal)}\")\n",
    "\n",
    "check = np.logical_not(journal['issn'].duplicated().any())\n",
    "print(f\"UnicitÃ© de l'attribut issn dans la table journal: {check}\")"
   ]
  },
  {
   "cell_type": "markdown",
   "metadata": {},
   "source": [
    "### Table price\n",
    "Etant donnÃ© que les index Ã©taient fournis dans le fichier original et qu'on les utilise afin d'indexer nos objets, \n",
    "on vÃ©rifie qu'il n'existe pas de duplicata.\n",
    "\n",
    "Ensuite, on Ã©limine les objets prÃ©sentant des objets dupliquÃ©s sur tous les attributs.\n",
    "Dans un second temps, dans la table price, les objets se doivent d'Ãªtre uniques selon deux attributs, date_stamp et\n",
    "journal_id. S'ils ne le sont pas, alors ceux sont des objets dupliquÃ©s."
   ]
  },
  {
   "cell_type": "code",
   "execution_count": null,
   "metadata": {},
   "outputs": [],
   "source": [
    "\n",
    "check = np.logical_not(price.index.duplicated().any())\n",
    "print(f\"UnicitÃ© des indexes de la table price: {check}\")\n",
    "\n",
    "nb = len(price)\n",
    "price = get_df_duplicated_rows_dropped(price)\n",
    "print(f\"Nombre d'objets dupliquÃ©s Ã©liminÃ©s dans price: {nb - len(price)}\")\n",
    "\n",
    "duplicated_rows = price[price[['date_stamp', 'journal_id']].duplicated(keep=False)]"
   ]
  },
  {
   "cell_type": "markdown",
   "metadata": {},
   "source": [
    "Il existe des duplicata ambigus que l'on dÃ©cide de traiter un Ã  un.\n",
    "\n",
    "Premier cas: un des objets prÃ©sente un prix nul, on dÃ©cide de choisir de l'Ã©liminer au profit de l'autre."
   ]
  },
  {
   "cell_type": "code",
   "execution_count": null,
   "metadata": {},
   "outputs": [],
   "source": [
    "\n",
    "print(duplicated_rows.iloc[0].fillna(0) == duplicated_rows.iloc[1].fillna(0))\n",
    "price = price.drop(duplicated_rows.index.values[0])"
   ]
  },
  {
   "cell_type": "markdown",
   "metadata": {},
   "source": [
    "DeuxiÃ¨me cas: leur valeur du prix est diffÃ©rente d'un lÃ©ger Ã©cart, on dÃ©cide de garder la deuxiÃ¨me de maniÃ¨re\n",
    "arbitraire"
   ]
  },
  {
   "cell_type": "code",
   "execution_count": null,
   "metadata": {},
   "outputs": [],
   "source": [
    "\n",
    "print(duplicated_rows.iloc[40].fillna(0) == duplicated_rows.iloc[41].fillna(0))\n",
    "price = price.drop(duplicated_rows.index.values[40])"
   ]
  },
  {
   "cell_type": "markdown",
   "metadata": {},
   "source": [
    "TroisiÃ¨me cas: seule la valeur de license est diffÃ©rente, on dÃ©cide de garder la premiÃ¨re de maniÃ¨re arbitraire."
   ]
  },
  {
   "cell_type": "code",
   "execution_count": null,
   "metadata": {},
   "outputs": [],
   "source": [
    "\n",
    "for i in range(3, 39, 2):\n",
    "    price = price.drop(duplicated_rows.index.values[i])"
   ]
  },
  {
   "cell_type": "markdown",
   "metadata": {},
   "source": [
    "### Table influence\n",
    "Etant donnÃ© que les index Ã©taient fournis dans le fichier original et qu'on les utilise afin d'indexer nos objets, \n",
    "on vÃ©rifie qu'il n'existe pas de duplicata.\n",
    "\n",
    "On se base sur l'attribut issn qui devrait Ãªtre unique pour chaque objet de la table, on vÃ©rifie son unicitÃ©."
   ]
  },
  {
   "cell_type": "code",
   "execution_count": null,
   "metadata": {},
   "outputs": [],
   "source": [
    "\n",
    "nb = len(influence)\n",
    "influence = get_df_duplicated_rows_dropped(influence)\n",
    "print(f\"Nombre d'objets dupliquÃ©s Ã©liminÃ©s dans influence: {nb - len(influence)}\")\n",
    "\n",
    "check = np.logical_not(influence['issn'].duplicated().any())\n",
    "print(f\"UnicitÃ© de l'attribut issn dans la table influence: {check}\")"
   ]
  },
  {
   "cell_type": "markdown",
   "metadata": {},
   "source": [
    "## Merge\n",
    "Afin de simplifier les opÃ©rations, on gÃ©nÃ¨re une seule table reprenant les informations des trois tables.\n",
    "On vÃ©rifie d'abord si les identifiants communs aux diffÃ©rentes tables sont prÃ©sentes dans les tables Ã  merger.\n",
    "En premier, on vÃ©rifie si les valeurs de l'attribut issn de influence sont existantes dans l'attribut du mÃªme nom \n",
    "dans journal.\n",
    "De mÃªme, on vÃ©rifie les valeurs de l'attribut journal_id de price sont existantes dans l'attribut issn dans journal. \n",
    "\"\"\"\n",
    "# %%\n",
    "\n",
    "check = influence['issn'].isin(journal['issn']).any()\n",
    "print(f\"Pas de valeur d'issn manquante dans journal par rapport Ã  influence : {check}\")\n",
    "\n",
    "check = price['journal_id'].isin(journal['issn']).any()\n",
    "print(f\"Pas de valeur d'issn manquante dans journal par rapport Ã  price : {check}\")"
   ]
  },
  {
   "cell_type": "markdown",
   "metadata": {},
   "source": [
    "On applique maintenant le merge des trois tables en deux Ã©tapes. D'abord, on merge influence dans journal, puis price\n",
    "est ensuite mergÃ© dans le rÃ©sultat du premier merge.\n",
    "\"\"\"\n",
    "# %%\n",
    "\n",
    "price = rename_df_headers(price, {\"journal_id\": \"issn\", \"url\": \"url_autor\"})\n",
    "journal = rename_df_headers(journal, {\"url\": \"url_journal\"})\n",
    "\n",
    "temp = pd.merge(journal, influence, on='issn')\n",
    "check = len(temp[temp['journal_name_x'] != temp['journal_name_y']])\n",
    "print(f\"Nombre d'aberrances entre les valeurs journal_name des tables journal et influence: {check}\")\n",
    "temp = temp.drop(columns=['journal_name_y'])\n",
    "temp = rename_df_headers(temp, {\"journal_name_x\": \"journal_name\"})\n",
    "\n",
    "data = pd.merge(price, temp, on='issn')\n",
    "data = get_df_duplicated_rows_dropped(data)\n",
    "\n",
    "print(f\"Valeurs uniques des attributs de data:\\n\"\n",
    "      f\"{get_uniqueness_attributes(data)}\")\n",
    "print(f\"Ratio de valeurs vides pour les attributs de data:\\n\"\n",
    "      f\"{get_ratio_missing_values(data)}\")"
   ]
  },
  {
   "cell_type": "markdown",
   "metadata": {},
   "source": [
    "## B. Y-a-t-il une corrÃ©lation entre les catÃ©gories de journaux (attribut category) et les coÃ»ts de publication \n",
    "(attribut price)? Justifier la rÃ©ponse."
   ]
  }
 ],
 "metadata": {
  "anaconda-cloud": {},
  "kernelspec": {
   "display_name": "Python 3",
   "language": "python",
   "name": "python3"
  },
  "language_info": {
   "codemirror_mode": {
    "name": "ipython",
    "version": 3
   },
   "file_extension": ".py",
   "mimetype": "text/x-python",
   "name": "python",
   "nbconvert_exporter": "python",
   "pygments_lexer": "ipython3",
   "version": "3.7.1"
  }
 },
 "nbformat": 4,
 "nbformat_minor": 1
}
